{
 "cells": [
  {
   "cell_type": "markdown",
   "metadata": {},
   "source": [
    "Trying to implement a class based model of each node."
   ]
  },
  {
   "cell_type": "code",
   "execution_count": 1,
   "metadata": {},
   "outputs": [],
   "source": [
    "import numpy as np\n",
    "import matplotlib.pyplot as plt"
   ]
  },
  {
   "cell_type": "code",
   "execution_count": 130,
   "metadata": {},
   "outputs": [],
   "source": [
    "class Node:\n",
    "    def __init__(self, l, num_packets, i):\n",
    "        self.i=i\n",
    "        self.l=l\n",
    "        self.packet_id=0\n",
    "        self.num_packets=num_packets\n",
    "        self.inter_arrival_times=np.random.exponential(1/l, (num_packets))\n",
    "        self.arrival_times=np.cumsum(self.inter_arrival_times)\n",
    "        self.timestamps=np.ceil(self.arrival_times)\n",
    "        for j in range(len(self.timestamps)):\n",
    "            if(j>0):\n",
    "                if(self.timestamps[j]==self.timestamps[j-1]):\n",
    "                    for k in range(j, len(self.timestamps)):\n",
    "                        self.timestamps[k]+=1\n",
    "        self.max_time=np.amax(self.timestamps)\n",
    "        self.successes=0\n",
    "        self.collision=0 # randomly choose one out of 2^(collision) consecutive slots\n",
    "    def push(t_start, backoff):\n",
    "        \n",
    "            \n",
    "        "
   ]
  },
  {
   "cell_type": "code",
   "execution_count": 118,
   "metadata": {},
   "outputs": [],
   "source": [
    "mynodes=[Node(0.125, 10, i) for i in range(4)]\n",
    "max_time=np.min([mynodes[i].max_time for i in range(4)])"
   ]
  },
  {
   "cell_type": "code",
   "execution_count": 119,
   "metadata": {},
   "outputs": [
    {
     "data": {
      "text/plain": [
       "array([ 3.,  5.,  8., 10., 29., 43., 44., 87., 91., 97.])"
      ]
     },
     "execution_count": 119,
     "metadata": {},
     "output_type": "execute_result"
    }
   ],
   "source": [
    "mynodes[1].timestamps"
   ]
  },
  {
   "cell_type": "code",
   "execution_count": 120,
   "metadata": {},
   "outputs": [
    {
     "name": "stdout",
     "output_type": "stream",
     "text": [
      "(0, 3)\n",
      "(1, 3)\n",
      "(3, 4)\n",
      "(1, 5)\n",
      "(0, 6)\n",
      "(2, 6)\n",
      "(2, 7)\n",
      "(1, 8)\n",
      "(1, 10)\n",
      "(3, 13)\n",
      "(0, 23)\n",
      "(2, 23)\n",
      "(3, 24)\n",
      "(2, 25)\n",
      "(0, 29)\n",
      "(1, 29)\n",
      "(0, 36)\n",
      "(3, 38)\n",
      "(0, 39)\n",
      "(2, 39)\n",
      "(1, 43)\n",
      "(1, 44)\n",
      "(0, 47)\n",
      "(0, 48)\n",
      "(0, 49)\n",
      "(3, 53)\n",
      "(3, 54)\n",
      "(3, 57)\n",
      "(3, 63)\n",
      "(3, 83)\n",
      "(3, 84)\n"
     ]
    }
   ],
   "source": [
    "\n",
    "for t in range(int(max_time)+1):\n",
    "    temp=[[]]*(int(max_time)+1)\n",
    "    for node in mynodes:\n",
    "        if t in node.timestamps:\n",
    "            print(node.i, t)"
   ]
  },
  {
   "cell_type": "code",
   "execution_count": 134,
   "metadata": {},
   "outputs": [
    {
     "name": "stdout",
     "output_type": "stream",
     "text": [
      "collision between \n",
      "0\n",
      "1\n",
      "2\n",
      "[0, 0, 0]\n",
      "collision between \n",
      "0\n",
      "1\n",
      "2\n",
      "3\n",
      "[0, 2, 0, 0]\n",
      "collision between \n",
      "0\n",
      "1\n",
      "3\n",
      "[1, 4, 0]\n",
      "collision between \n",
      "0\n",
      "2\n",
      "3\n",
      "[4, 1, 3]\n",
      "collision between \n",
      "0\n",
      "1\n",
      "2\n",
      "3\n",
      "[17, 13, 9, 12]\n",
      "collision between \n",
      "0\n",
      "1\n",
      "2\n",
      "3\n",
      "[17, 23, 9, 6]\n",
      "collision between \n",
      "0\n",
      "1\n",
      "[4, 29]\n",
      "collision between \n",
      "0\n",
      "1\n",
      "[110, 4]\n",
      "collision between \n",
      "0\n",
      "1\n",
      "[258, 74]\n",
      "collision between \n",
      "0\n",
      "1\n",
      "2\n",
      "3\n",
      "[36, 196, 28, 19]\n"
     ]
    }
   ],
   "source": [
    "tput=[]\n",
    "input_G=np.arange(0.1, 5, 0.1)\n",
    "mynodes=[Node(G/4, 10, i) for i in range(4)]\n",
    "max_time=np.min([mynodes[i].max_time for i in range(4)])\n",
    "for t in range(int(max_time)+1):\n",
    "    actives=[]\n",
    "    for node in mynodes:\n",
    "        if t in node.timestamps:\n",
    "            actives.append(node)\n",
    "    if(len(actives)==1):\n",
    "        actives[0].successes+=1\n",
    "        actives[0].collision=0\n",
    "    elif(len(actives)>1):\n",
    "        print(\"collision between \")\n",
    "        temp=[]\n",
    "        for active in actives:\n",
    "            print(active.i)\n",
    "            active.collision+=1\n",
    "            backoff=np.random.randint(0, int(2**(active.collision))-1)\n",
    "            temp.append(backoff)\n",
    "        print(temp)\n",
    "total_successes=0\n",
    "for node in mynodes:\n",
    "    total_successes+=node.successes\n"
   ]
  },
  {
   "cell_type": "code",
   "execution_count": 62,
   "metadata": {},
   "outputs": [
    {
     "data": {
      "text/plain": [
       "array([ 5., 15., 16., 19., 20., 21., 23., 26., 30., 36.])"
      ]
     },
     "execution_count": 62,
     "metadata": {},
     "output_type": "execute_result"
    }
   ],
   "source": [
    "mynodes[1].timestamps"
   ]
  },
  {
   "cell_type": "code",
   "execution_count": 60,
   "metadata": {},
   "outputs": [
    {
     "data": {
      "text/plain": [
       "array([ 4.3168467 , 14.50984872, 14.51076377, 17.39086581, 18.66054257,\n",
       "       19.43561355, 21.08453062, 24.47634247, 28.51996281, 34.71164101])"
      ]
     },
     "execution_count": 60,
     "metadata": {},
     "output_type": "execute_result"
    }
   ],
   "source": []
  },
  {
   "cell_type": "code",
   "execution_count": 43,
   "metadata": {},
   "outputs": [],
   "source": [
    "\n"
   ]
  },
  {
   "cell_type": "code",
   "execution_count": 44,
   "metadata": {},
   "outputs": [
    {
     "data": {
      "text/plain": [
       "array([ 4.,  5., 21., 25., 30., 40., 47., 48., 49., 58.])"
      ]
     },
     "execution_count": 44,
     "metadata": {},
     "output_type": "execute_result"
    }
   ],
   "source": [
    "mynodes[1].timestamps"
   ]
  },
  {
   "cell_type": "code",
   "execution_count": null,
   "metadata": {},
   "outputs": [],
   "source": []
  }
 ],
 "metadata": {
  "kernelspec": {
   "display_name": "Python 3",
   "language": "python",
   "name": "python3"
  },
  "language_info": {
   "codemirror_mode": {
    "name": "ipython",
    "version": 2
   },
   "file_extension": ".py",
   "mimetype": "text/x-python",
   "name": "python",
   "nbconvert_exporter": "python",
   "pygments_lexer": "ipython2",
   "version": "2.7.17"
  }
 },
 "nbformat": 4,
 "nbformat_minor": 2
}
